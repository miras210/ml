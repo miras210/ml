{
 "cells": [
  {
   "cell_type": "code",
   "execution_count": 1282,
   "metadata": {},
   "outputs": [],
   "source": [
    "# used for manipulating directory paths\n",
    "import os\n",
    "\n",
    "# Scientific and vector computation for python\n",
    "import numpy as np\n",
    "\n",
    "# Plotting library\n",
    "from matplotlib import pyplot\n",
    "\n",
    "# Optimization module in scipy\n",
    "from scipy import optimize\n",
    "\n",
    "from sklearn.model_selection import train_test_split\n",
    "\n",
    "# library written for this exercise providing additional functions for assignment submission, and others\n",
    "import utils"
   ]
  },
  {
   "cell_type": "code",
   "execution_count": 1283,
   "metadata": {},
   "outputs": [],
   "source": [
    "data = np.loadtxt('ex2data2.txt', delimiter=',')\n",
    "X = data[:, :2]\n",
    "y = data[:, 2]"
   ]
  },
  {
   "cell_type": "code",
   "execution_count": 1284,
   "metadata": {},
   "outputs": [],
   "source": [
    "X = np.concatenate([np.ones((y.size, 1)), X], axis=1)\n",
    "X_train, X_test, y_train, y_test = train_test_split(X, y)\n",
    "m = y_train.size\n",
    "\n",
    "epsilon = 1e-10"
   ]
  },
  {
   "cell_type": "code",
   "execution_count": 1285,
   "metadata": {},
   "outputs": [],
   "source": [
    "def sigmoid(z):\n",
    "    g = 1/(1+np.exp(-z))\n",
    "    return g"
   ]
  },
  {
   "cell_type": "code",
   "execution_count": 1286,
   "metadata": {},
   "outputs": [],
   "source": [
    "def costFunctionReg(theta, X, y, lambda_ = 0.0):\n",
    "    m = y.size  \n",
    "\n",
    "    J = 0\n",
    "    grad = np.zeros(theta.shape)\n",
    "    h = sigmoid(X.dot(theta))\n",
    "    J = -1/m * (y.T.dot(np.log(h + epsilon))+ (1-y).T.dot(np.log(1-h + epsilon))) + lambda_/(2*m)*np.sum((theta[1:])**2)\n",
    "    grad = 1/m * X.T.dot(h-y)\n",
    "    for i in range(1, len(grad)):\n",
    "        grad_other = 1/m * X.T.dot(h-y) + lambda_/m * theta[i]\n",
    "        grad[i] = grad_other[i]\n",
    "    \n",
    "    return J, grad"
   ]
  },
  {
   "cell_type": "code",
   "execution_count": 1287,
   "metadata": {},
   "outputs": [],
   "source": [
    "def trainReg(X, y, lambda_=0.0, maxiter=200):\n",
    "    # Initialize Theta\n",
    "    initial_theta = np.zeros(X.shape[1])\n",
    "\n",
    "    # Now, costFunction is a function that takes in only one argument\n",
    "    options = {'maxiter': maxiter}\n",
    "\n",
    "    # Minimize using scipy\n",
    "    res = optimize.minimize(costFunctionReg, initial_theta, (X, y, lambda_), jac=True, method='TNC', options=options)\n",
    "    return res.x"
   ]
  },
  {
   "cell_type": "code",
   "execution_count": 1288,
   "metadata": {},
   "outputs": [],
   "source": [
    "def learningCurve(X, y, Xval, yval, lambda_=0):\n",
    "    \n",
    "    m = y.size\n",
    "\n",
    "    error_train = np.zeros(m)\n",
    "    error_val   = np.zeros(m)\n",
    "\n",
    "    for i in range(1, m + 1):\n",
    "        theta = trainReg(X[:i, :], y[:i], lambda_=0)\n",
    "        error_train[i-1] = costFunctionReg(theta, X[:i, :], y[:i], lambda_=0.0)[0]\n",
    "        error_val[i-1] = costFunctionReg(theta, Xval, yval, lambda_=0.0)[0]\n",
    "    return error_train, error_val"
   ]
  },
  {
   "cell_type": "code",
   "execution_count": 1289,
   "metadata": {},
   "outputs": [
    {
     "data": {
      "text/plain": [
       "(0.0, 50.0, 0.0, 10.0)"
      ]
     },
     "execution_count": 1289,
     "metadata": {},
     "output_type": "execute_result"
    },
    {
     "data": {
      "image/png": "[encoded data removed]",
      "text/plain": [
       "<Figure size 432x288 with 1 Axes>"
      ]
     },
     "metadata": {
      "needs_background": "light"
     },
     "output_type": "display_data"
    }
   ],
   "source": [
    "error_train, error_val = learningCurve(X_train, y_train, X_test, y_test, lambda_=0)\n",
    "\n",
    "pyplot.plot(np.arange(1, m+1), error_train, np.arange(1, m+1), error_val, lw=2)\n",
    "pyplot.title('Learning curve for linear regression')\n",
    "pyplot.legend(['Train', 'Cross Validation'])\n",
    "pyplot.xlabel('Number of training examples')\n",
    "pyplot.ylabel('Error')\n",
    "pyplot.axis([0, 50, 0, 10])"
   ]
  },
  {
   "cell_type": "code",
   "execution_count": 1290,
   "metadata": {},
   "outputs": [],
   "source": [
    "# X = data[:, :2]\n",
    "# y = data[:, 2]"
   ]
  },
  {
   "cell_type": "code",
   "execution_count": 1291,
   "metadata": {},
   "outputs": [],
   "source": [
    "from sklearn.preprocessing import PolynomialFeatures\n",
    "def polyFeatures(X, p):\n",
    "    poly = PolynomialFeatures(p)\n",
    "    X_poly = poly.fit_transform(X)\n",
    "    return X_poly"
   ]
  },
  {
   "cell_type": "code",
   "execution_count": 1292,
   "metadata": {},
   "outputs": [],
   "source": [
    "degree_of_polynomial = [1, 2, 3, 4, 5, 6, 7, 8]\n",
    "# X_train, X_test, y_train, y_test = train_test_split(X, y)"
   ]
  },
  {
   "cell_type": "code",
   "execution_count": 1293,
   "metadata": {},
   "outputs": [],
   "source": [
    "def learningCurvePoly(X, y, Xval, yval, lambda_=0):\n",
    "    \n",
    "    m = y.size\n",
    "\n",
    "    error_train = np.zeros(8)\n",
    "    error_val   = np.zeros(8)\n",
    "\n",
    "    for i in degree_of_polynomial:\n",
    "        X_poly = polyFeatures(X, i)        \n",
    "        X_polyval = polyFeatures(Xval, i)\n",
    "        theta = trainReg(X_poly, y, lambda_=0)\n",
    "        error_train[i-1] = costFunctionReg(theta, X_poly, y, lambda_=0.0)[0]\n",
    "        error_val[i-1] = costFunctionReg(theta, X_polyval, yval, lambda_=0.0)[0]\n",
    "    return error_train, error_val"
   ]
  },
  {
   "cell_type": "code",
   "execution_count": 1294,
   "metadata": {},
   "outputs": [],
   "source": [
    "error_train, error_val = learningCurvePoly(X_train, y_train, X_test, y_test, lambda_=0)"
   ]
  },
  {
   "cell_type": "code",
   "execution_count": 1295,
   "metadata": {},
   "outputs": [
    {
     "data": {
      "text/plain": [
       "Text(0, 0.5, 'Error')"
      ]
     },
     "execution_count": 1295,
     "metadata": {},
     "output_type": "execute_result"
    },
    {
     "data": {
      "image/png": "[encoded data removed]",
      "text/plain": [
       "<Figure size 432x288 with 1 Axes>"
      ]
     },
     "metadata": {
      "needs_background": "light"
     },
     "output_type": "display_data"
    }
   ],
   "source": [
    "pyplot.plot(degree_of_polynomial, error_train, degree_of_polynomial, error_val, lw=2)\n",
    "pyplot.title('Learning curve for linear regression')\n",
    "pyplot.legend(['Train', 'Cross Validation'])\n",
    "pyplot.xlabel('Number of degree')\n",
    "pyplot.ylabel('Error')\n",
    "# pyplot.axis([0, 20, 0, 10])"
   ]
  },
  {
   "cell_type": "code",
   "execution_count": 1296,
   "metadata": {},
   "outputs": [],
   "source": [
    "# X = data[:, :2]\n",
    "# y = data[:, 2]"
   ]
  },
  {
   "cell_type": "code",
   "execution_count": 1297,
   "metadata": {},
   "outputs": [],
   "source": [
    "lambda_list = [0.01, 0.02, 0.04, 0.08, 0.16, 0.32, 0.5, 1, 2, 4, 8, 10]\n",
    "# X_train, X_test, y_train, y_test = train_test_split(X, y)\n",
    "X_polytrain = polyFeatures(X_train, 8)        \n",
    "X_polytest = polyFeatures(X_test, 8)"
   ]
  },
  {
   "cell_type": "code",
   "execution_count": 1298,
   "metadata": {},
   "outputs": [],
   "source": [
    "def learningCurveLambda(X, y, Xval, yval):\n",
    "    \n",
    "    m = y.size\n",
    "\n",
    "    error_train = np.zeros(len(lambda_list))\n",
    "    error_val   = np.zeros(len(lambda_list))\n",
    "\n",
    "    for i in range(len(lambda_list)):\n",
    "        theta = trainReg(X, y, lambda_=lambda_list[i])\n",
    "        error_train[i] = costFunctionReg(theta, X, y, lambda_=lambda_list[i])[0]\n",
    "        error_val[i] = costFunctionReg(theta, Xval, yval, lambda_=lambda_list[i])[0]\n",
    "    return error_train, error_val"
   ]
  },
  {
   "cell_type": "code",
   "execution_count": 1299,
   "metadata": {},
   "outputs": [],
   "source": [
    "error_train, error_val = learningCurveLambda(X_polytrain, y_train, X_polytest, y_test)"
   ]
  },
  {
   "cell_type": "code",
   "execution_count": 1300,
   "metadata": {},
   "outputs": [
    {
     "data": {
      "text/plain": [
       "Text(0, 0.5, 'Error')"
      ]
     },
     "execution_count": 1300,
     "metadata": {},
     "output_type": "execute_result"
    },
    {
     "data": {
      "image/png": "[encoded data removed]",
      "text/plain": [
       "<Figure size 432x288 with 1 Axes>"
      ]
     },
     "metadata": {
      "needs_background": "light"
     },
     "output_type": "display_data"
    }
   ],
   "source": [
    "pyplot.plot(lambda_list, error_train, lambda_list, error_val, lw=2)\n",
    "pyplot.title('Learning curve for linear regression')\n",
    "pyplot.legend(['Train', 'Cross Validation'])\n",
    "pyplot.xlabel('Lambda val')\n",
    "pyplot.ylabel('Error')\n",
    "# pyplot.axis([0, 20, 0, 10])"
   ]
  },
  {
   "cell_type": "code",
   "execution_count": 1328,
   "metadata": {},
   "outputs": [],
   "source": [
    "threshold = [0, 0.1, 0.2, 0.3, 0.4, 0.5, 0.6, 0.7, 0.8, 0.9, 1]\n",
    "\n",
    "def predict(theta, X, thresh):\n",
    "\n",
    "    m = X.shape[0]\n",
    "\n",
    "    p = np.zeros(m)\n",
    "\n",
    "    p = sigmoid(X.dot(theta))\n",
    "    for i in range(len(p)):\n",
    "        if p[i]>= thresh:\n",
    "            p[i] = 1\n",
    "        else:\n",
    "            p[i] = 0\n",
    "    \n",
    "    return p"
   ]
  },
  {
   "cell_type": "code",
   "execution_count": 1329,
   "metadata": {},
   "outputs": [],
   "source": [
    "theta = trainReg(X_train, y_train, lambda_=0)\n",
    "precision_history = []\n",
    "recall_history = []\n",
    "for th in threshold:\n",
    "    h = predict(theta, X_train, th)\n",
    "    truePos = 0\n",
    "    falsePos = 0\n",
    "    falseNeg = 0\n",
    "    for k in range(len(y_train)):\n",
    "        if (h[k] == 1 and y_train[k] == 1):\n",
    "            truePos+=1\n",
    "        elif (h[k] == 1 and y_train[k] == 0):\n",
    "            falsePos+=1\n",
    "        elif (h[k] == 0 and y_train[k] == 1):\n",
    "            falseNeg+=1\n",
    "    precision_history.append(truePos/(truePos + falsePos))\n",
    "    recall_history.append(truePos/(truePos + falseNeg))"
   ]
  },
  {
   "cell_type": "code",
   "execution_count": 1332,
   "metadata": {},
   "outputs": [
    {
     "data": {
      "text/plain": [
       "(0.0, 1.1)"
      ]
     },
     "execution_count": 1332,
     "metadata": {},
     "output_type": "execute_result"
    },
    {
     "data": {
      "image/png": "[encoded data removed]",
      "text/plain": [
       "<Figure size 432x288 with 1 Axes>"
      ]
     },
     "metadata": {
      "needs_background": "light"
     },
     "output_type": "display_data"
    }
   ],
   "source": [
    "pyplot.plot(recall_history, precision_history)\n",
    "pyplot.xlabel('Precision')\n",
    "pyplot.ylabel('Recall')\n",
    "pyplot.xlim(0, 1.1)\n",
    "pyplot.ylim(0, 1.1)"
   ]
  },
  {
   "cell_type": "code",
   "execution_count": null,
   "metadata": {},
   "outputs": [],
   "source": []
  }
 ],
 "metadata": {
  "kernelspec": {
   "display_name": "Python 3",
   "language": "python",
   "name": "python3"
  },
  "language_info": {
   "codemirror_mode": {
    "name": "ipython",
    "version": 3
   },
   "file_extension": ".py",
   "mimetype": "text/x-python",
   "name": "python",
   "nbconvert_exporter": "python",
   "pygments_lexer": "ipython3",
   "version": "3.8.5"
  }
 },
 "nbformat": 4,
 "nbformat_minor": 4
}
